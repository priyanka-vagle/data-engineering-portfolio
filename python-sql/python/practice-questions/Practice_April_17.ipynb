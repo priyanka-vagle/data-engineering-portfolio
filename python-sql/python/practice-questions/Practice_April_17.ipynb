{
 "cells": [
  {
   "cell_type": "markdown",
   "id": "9fee35b6",
   "metadata": {},
   "source": [
    "# Daily Python Practice – April 17\n",
    "\n",
    "## Topics Covered:\n",
    "- ✅ Conditionals & Branching (if, elif, else)\n",
    "- ✅ Loops (for, while, break, continue)\n"
   ]
  },
  {
   "cell_type": "markdown",
   "id": "af8e301d",
   "metadata": {},
   "source": [
    "## 1.Write a program to print numbers from 1 to 10 using a for loop."
   ]
  },
  {
   "cell_type": "code",
   "execution_count": 5,
   "id": "819edcd6",
   "metadata": {},
   "outputs": [
    {
     "name": "stdout",
     "output_type": "stream",
     "text": [
      "1\n",
      "2\n",
      "3\n",
      "4\n",
      "5\n",
      "6\n",
      "7\n",
      "8\n",
      "9\n",
      "10\n"
     ]
    }
   ],
   "source": [
    "for i in range(1,11):\n",
    "    print(i)"
   ]
  },
  {
   "cell_type": "markdown",
   "id": "90cc2e48",
   "metadata": {},
   "source": [
    "**Explanation:**  \n",
    "This `for` loop uses `range(1, 11)` to print numbers from 1 to 10. The end value is exclusive, so 11 is not printed.\n"
   ]
  },
  {
   "cell_type": "markdown",
   "id": "b18fa3cd",
   "metadata": {},
   "source": [
    "**Why:**  \n",
    "This loop uses `range(1, 11)` to print numbers from 1 to 10 (inclusive).\n",
    "\n",
    "**Expected Output:**  \n",
    "1  \n",
    "2  \n",
    "3  \n",
    "...  \n",
    "10\n",
    "\n",
    "**Logic:**  \n",
    "The loop increments by 1 automatically. `range()` stops before the end value.\n"
   ]
  },
  {
   "cell_type": "markdown",
   "id": "b55ae174",
   "metadata": {},
   "source": [
    "## 2. Use a while loop to print numbers from 10 down to 1."
   ]
  },
  {
   "cell_type": "code",
   "execution_count": 2,
   "id": "7a1ce48f",
   "metadata": {},
   "outputs": [
    {
     "name": "stdout",
     "output_type": "stream",
     "text": [
      "9\n",
      "8\n",
      "7\n",
      "6\n",
      "5\n",
      "4\n",
      "3\n",
      "2\n",
      "1\n"
     ]
    }
   ],
   "source": [
    "i=10\n",
    "i=i-1\n",
    "while i>0:\n",
    "    print(i)\n",
    "    i=i-1"
   ]
  },
  {
   "cell_type": "markdown",
   "id": "9ea2c55f",
   "metadata": {},
   "source": [
    "**Explanation:**  \n",
    "This `while` loop starts from 10 and decreases the counter until it reaches 1, printing numbers in reverse.\n"
   ]
  },
  {
   "cell_type": "code",
   "execution_count": null,
   "id": "6dcf5dd5",
   "metadata": {},
   "outputs": [],
   "source": []
  },
  {
   "cell_type": "markdown",
   "id": "9c72724d",
   "metadata": {},
   "source": [
    "## 3.Print all even numbers between 1 and 20 using a loop and if condition."
   ]
  },
  {
   "cell_type": "code",
   "execution_count": 3,
   "id": "62a85e69",
   "metadata": {},
   "outputs": [
    {
     "name": "stdout",
     "output_type": "stream",
     "text": [
      "2\n",
      "4\n",
      "6\n",
      "8\n",
      "10\n",
      "12\n",
      "14\n",
      "16\n",
      "18\n"
     ]
    }
   ],
   "source": [
    "for i in range(1,20):\n",
    "    if i%2==0:\n",
    "        print(i)\n",
    "        "
   ]
  },
  {
   "cell_type": "markdown",
   "id": "f2c031eb",
   "metadata": {},
   "source": [
    "**Explanation:**  \n",
    "The loop checks if a number is divisible by 2 using `if i % 2 == 0` to identify and print even numbers.\n"
   ]
  },
  {
   "cell_type": "markdown",
   "id": "c37c6898",
   "metadata": {},
   "source": [
    "## 4.Given x = 5, write an if statement to print \"x is greater than 3\" only if the condition is true."
   ]
  },
  {
   "cell_type": "code",
   "execution_count": 4,
   "id": "d8b99e59",
   "metadata": {},
   "outputs": [
    {
     "name": "stdout",
     "output_type": "stream",
     "text": [
      "x is greater than 3\n"
     ]
    }
   ],
   "source": [
    "x=5\n",
    "if(x>3):\n",
    "    print(\"x is greater than 3\")"
   ]
  },
  {
   "cell_type": "markdown",
   "id": "d83c7a42",
   "metadata": {},
   "source": [
    "**Explanation:**  \n",
    "The `if` statement checks if x is greater than 3. If true, it prints a message. Otherwise, nothing is printed.\n"
   ]
  },
  {
   "cell_type": "markdown",
   "id": "0cf3a855",
   "metadata": {},
   "source": [
    "## 5.Write a loop that prints only the letters that are vowels from the list ['a', 'b', 'e', 'f', 'i', 'o', 'u']."
   ]
  },
  {
   "cell_type": "code",
   "execution_count": 9,
   "id": "413faa66",
   "metadata": {},
   "outputs": [
    {
     "name": "stdout",
     "output_type": "stream",
     "text": [
      "a\n",
      "e\n",
      "i\n",
      "o\n",
      "u\n"
     ]
    }
   ],
   "source": [
    "x=['a', 'b', 'e', 'f', 'i', 'o', 'u']\n",
    "y=['a','e','i','o','u']\n",
    "\n",
    "for i in x:\n",
    "    if i in y:\n",
    "        print(i)"
   ]
  },
  {
   "cell_type": "markdown",
   "id": "0fe7d74e",
   "metadata": {},
   "source": [
    "**Explanation:**  \n",
    "The loop checks if each character is in the list of vowels, and prints it if the condition is true.\n"
   ]
  },
  {
   "cell_type": "markdown",
   "id": "61b8d5b7",
   "metadata": {},
   "source": [
    "## 6.Ask the user to enter numbers. Keep adding them to a list until the user enters 0. Then print the list."
   ]
  },
  {
   "cell_type": "code",
   "execution_count": 7,
   "id": "695f1891",
   "metadata": {},
   "outputs": [
    {
     "name": "stdout",
     "output_type": "stream",
     "text": [
      "enter numbers:5\n",
      "enter numbers:4\n",
      "enter numbers:3\n",
      "enter numbers:2\n",
      "enter numbers:1\n",
      "enter numbers:0\n",
      "[5, 4, 3, 2, 1]\n"
     ]
    }
   ],
   "source": [
    "list_1=[]\n",
    "while True:\n",
    "    user_input = int(input(\"enter numbers:\"))\n",
    "    if user_input==0:\n",
    "        break\n",
    "    else:\n",
    "        list_1.append(user_input)\n",
    "print(list_1)\n",
    "        \n",
    "    "
   ]
  },
  {
   "cell_type": "markdown",
   "id": "1c6c6205",
   "metadata": {},
   "source": [
    "**Explanation:**  \n",
    "This loop collects user input in a list. It breaks when the user enters 0, and prints all entered numbers.\n"
   ]
  },
  {
   "cell_type": "markdown",
   "id": "ed1af3b6",
   "metadata": {},
   "source": [
    "## 7. Loop from 1 to 50 and:\n",
    "\n",
    "Print \"Fizz\" if divisible by 3\n",
    "\n",
    "Print \"Buzz\" if divisible by 5\n",
    "\n",
    "Print \"FizzBuzz\" if divisible by both"
   ]
  },
  {
   "cell_type": "code",
   "execution_count": 13,
   "id": "05abb591",
   "metadata": {},
   "outputs": [
    {
     "name": "stdout",
     "output_type": "stream",
     "text": [
      "number fizz 3\n",
      "number Buzz 5\n",
      "number fizz 6\n",
      "number fizz 9\n",
      "number Buzz 10\n",
      "number fizz 12\n",
      "NUmber fizzbuzz 15\n",
      "number fizz 18\n",
      "number Buzz 20\n",
      "number fizz 21\n",
      "number fizz 24\n",
      "number Buzz 25\n",
      "number fizz 27\n",
      "NUmber fizzbuzz 30\n",
      "number fizz 33\n",
      "number Buzz 35\n",
      "number fizz 36\n",
      "number fizz 39\n",
      "number Buzz 40\n",
      "number fizz 42\n",
      "NUmber fizzbuzz 45\n",
      "number fizz 48\n"
     ]
    }
   ],
   "source": [
    "for i in range(1,50):\n",
    "    if i%3==0 and i%5==0:\n",
    "        print(\"NUmber fizzbuzz\",i)\n",
    "    elif i%5==0:\n",
    "        print(\"number Buzz\",i)\n",
    "    elif i%3==0:\n",
    "        print(\"number fizz\",i)"
   ]
  },
  {
   "cell_type": "markdown",
   "id": "966dc791",
   "metadata": {},
   "source": [
    "**Explanation:**  \n",
    "This uses `if` conditions to check divisibility. If a number is divisible by both 3 and 5, it prints \"FizzBuzz\".\n"
   ]
  },
  {
   "cell_type": "markdown",
   "id": "e45d13d0",
   "metadata": {},
   "source": [
    "## 8.Ask the user to enter a password. If the password is not \"secret123\", keep asking again. Break when correct."
   ]
  },
  {
   "cell_type": "code",
   "execution_count": 14,
   "id": "5f292a36",
   "metadata": {},
   "outputs": [
    {
     "name": "stdout",
     "output_type": "stream",
     "text": [
      "enter the password:112\n",
      "enter the password:333\n",
      "enter the password:secret123\n"
     ]
    }
   ],
   "source": [
    "password = \"secret123\"\n",
    "while True:\n",
    "    user = input(\"enter the password:\")\n",
    "    if user != password:\n",
    "        continue\n",
    "    else:\n",
    "        break"
   ]
  },
  {
   "cell_type": "markdown",
   "id": "228c21ff",
   "metadata": {},
   "source": [
    "**Explanation:**  \n",
    "This loop keeps asking for the password until the user enters \"secret123\". It breaks only on the correct input.\n"
   ]
  },
  {
   "cell_type": "markdown",
   "id": "8c69bc6b",
   "metadata": {},
   "source": [
    "## 9.Print all numbers from 1 to 30, but skip any number divisible by 4."
   ]
  },
  {
   "cell_type": "code",
   "execution_count": 15,
   "id": "f17db250",
   "metadata": {},
   "outputs": [
    {
     "name": "stdout",
     "output_type": "stream",
     "text": [
      "1\n",
      "2\n",
      "3\n",
      "5\n",
      "6\n",
      "7\n",
      "9\n",
      "10\n",
      "11\n",
      "13\n",
      "14\n",
      "15\n",
      "17\n",
      "18\n",
      "19\n",
      "21\n",
      "22\n",
      "23\n",
      "25\n",
      "26\n",
      "27\n",
      "29\n"
     ]
    }
   ],
   "source": [
    "for i in range(1,30):\n",
    "    if i%4==0:\n",
    "        continue\n",
    "    print(i)"
   ]
  },
  {
   "cell_type": "markdown",
   "id": "f276229f",
   "metadata": {},
   "source": [
    "**Explanation:**  \n",
    "The loop uses `continue` to skip numbers divisible by 4 and prints all other numbers from 1 to 30.\n"
   ]
  },
  {
   "cell_type": "markdown",
   "id": "6740fc57",
   "metadata": {},
   "source": [
    "## 10.Loop over this list: [3, 7, 1, 9, 2] and print \"Odd\" or \"Even\" next to each number.\n",
    "\n"
   ]
  },
  {
   "cell_type": "code",
   "execution_count": 16,
   "id": "932dbf35",
   "metadata": {},
   "outputs": [
    {
     "name": "stdout",
     "output_type": "stream",
     "text": [
      "number is odd 3\n",
      "number is odd 7\n",
      "number is odd 1\n",
      "number is odd 9\n",
      "number is even 2\n"
     ]
    }
   ],
   "source": [
    "list_1 = [3, 7, 1, 9, 2] \n",
    "for lis in list_1:\n",
    "    if lis%2==0:\n",
    "        print(\"number is even\",lis)\n",
    "    else:\n",
    "        print(\"number is odd\",lis)"
   ]
  },
  {
   "cell_type": "markdown",
   "id": "ba55169e",
   "metadata": {},
   "source": [
    "**Explanation:**  \n",
    "Each number is checked using `num % 2`. The code prints \"Even\" if the result is 0, otherwise \"Odd\".\n"
   ]
  },
  {
   "cell_type": "markdown",
   "id": "e121dc4d",
   "metadata": {},
   "source": [
    "## 11. Print a triangle like this using a for loop:\n",
    "*\n",
    "**\n",
    "***\n",
    "****\n",
    "*****\n",
    "\n",
    "\n"
   ]
  },
  {
   "cell_type": "code",
   "execution_count": 19,
   "id": "a49f2a13",
   "metadata": {},
   "outputs": [
    {
     "name": "stdout",
     "output_type": "stream",
     "text": [
      "*\n",
      "**\n",
      "***\n",
      "****\n",
      "*****\n"
     ]
    }
   ],
   "source": [
    "\n",
    "for i in range(1,6):\n",
    "    print(\"*\" * i)\n",
    "    "
   ]
  },
  {
   "cell_type": "markdown",
   "id": "2bb1fe3d",
   "metadata": {},
   "source": [
    "**Explanation:**  \n",
    "The loop prints a line of stars, increasing the count on each line using `'*' * i`.\n"
   ]
  },
  {
   "cell_type": "markdown",
   "id": "3172db33",
   "metadata": {},
   "source": [
    "## 12. Write a program to count how many numbers between 1 and 100 are divisible by both 3 and 7"
   ]
  },
  {
   "cell_type": "code",
   "execution_count": 20,
   "id": "870b958b",
   "metadata": {},
   "outputs": [
    {
     "name": "stdout",
     "output_type": "stream",
     "text": [
      "4\n"
     ]
    }
   ],
   "source": [
    "count=0\n",
    "for i in range(1,100):\n",
    "    if i%3==0 and i%7==0:\n",
    "        count=count+1\n",
    "print(count)"
   ]
  },
  {
   "cell_type": "markdown",
   "id": "5308a12a",
   "metadata": {},
   "source": [
    "**Explanation:**  \n",
    "The loop checks each number using `if num % 3 == 0 and num % 7 == 0`, and keeps a count.\n"
   ]
  },
  {
   "cell_type": "markdown",
   "id": "d08682fd",
   "metadata": {},
   "source": [
    "## 13. Ask a user for a number and print whether it's positive, negative, or zero using if/elif/else."
   ]
  },
  {
   "cell_type": "code",
   "execution_count": 23,
   "id": "426fa6dc",
   "metadata": {},
   "outputs": [
    {
     "name": "stdout",
     "output_type": "stream",
     "text": [
      "enter a number:-1\n",
      "number is negative\n"
     ]
    }
   ],
   "source": [
    "number = int(input(\"enter a number:\"))\n",
    "if number ==0:\n",
    "    print(\"number is zero\")\n",
    "elif number >0:\n",
    "    print(\"number is positive\")\n",
    "else:\n",
    "    print(\"number is negative\")"
   ]
  },
  {
   "cell_type": "markdown",
   "id": "b3a898fc",
   "metadata": {},
   "source": [
    "**Explanation:**  \n",
    "Using `if-elif-else`, the program checks the sign of a number and prints the corresponding category.\n"
   ]
  },
  {
   "cell_type": "markdown",
   "id": "3e07e8c3",
   "metadata": {},
   "source": [
    "## 14. Find the sum of all even numbers from 1 to 100 using a loop."
   ]
  },
  {
   "cell_type": "code",
   "execution_count": 28,
   "id": "2b23c452",
   "metadata": {},
   "outputs": [
    {
     "name": "stdout",
     "output_type": "stream",
     "text": [
      "2550\n"
     ]
    }
   ],
   "source": [
    "Sum = 0\n",
    "for i in range(1,101):\n",
    "    if i%2==0:\n",
    "        Sum=Sum + i\n",
    "print(Sum)\n"
   ]
  },
  {
   "cell_type": "markdown",
   "id": "f210647b",
   "metadata": {},
   "source": [
    "**Explanation:** \n",
    "\n",
    "check if the number is `even` and if the number is even then it add to sum and soon "
   ]
  },
  {
   "cell_type": "markdown",
   "id": "67c1d438",
   "metadata": {},
   "source": [
    "## 15. Given a list of marks, print:\n",
    "\n",
    "### \"Pass\" if mark >= 35\n",
    "\n",
    "### \"Fail\" otherwise\n",
    "\n",
    "marks = [22, 87, 35, 50, 12]"
   ]
  },
  {
   "cell_type": "code",
   "execution_count": 29,
   "id": "767d088f",
   "metadata": {},
   "outputs": [
    {
     "name": "stdout",
     "output_type": "stream",
     "text": [
      "fail\n",
      "pass\n",
      "pass\n",
      "pass\n",
      "fail\n"
     ]
    }
   ],
   "source": [
    "marks = [22, 87, 35, 50, 12]\n",
    "\n",
    "for mark in marks:\n",
    "    if mark >=35:\n",
    "        print(\"pass\")\n",
    "    else:\n",
    "        print(\"fail\")"
   ]
  },
  {
   "cell_type": "markdown",
   "id": "d5927b1d",
   "metadata": {},
   "source": [
    "**Explanation:**  \n",
    "Each mark in the list is compared to 35. If it’s greater or equal, print “Pass”, else print “Fail”.\n"
   ]
  },
  {
   "cell_type": "markdown",
   "id": "95dc7dfa",
   "metadata": {},
   "source": [
    "## 16. Use nested loops to print multiplication tables from 1 to 5."
   ]
  },
  {
   "cell_type": "code",
   "execution_count": 36,
   "id": "621a45f9",
   "metadata": {},
   "outputs": [
    {
     "name": "stdout",
     "output_type": "stream",
     "text": [
      "1*1= 1\n",
      "1*2= 2\n",
      "1*3= 3\n",
      "1*4= 4\n",
      "1*5= 5\n",
      "1*6= 6\n",
      "1*7= 7\n",
      "1*8= 8\n",
      "1*9= 9\n",
      "1*10= 10\n",
      "\n",
      "\n",
      "2*1= 2\n",
      "2*2= 4\n",
      "2*3= 6\n",
      "2*4= 8\n",
      "2*5= 10\n",
      "2*6= 12\n",
      "2*7= 14\n",
      "2*8= 16\n",
      "2*9= 18\n",
      "2*10= 20\n",
      "\n",
      "\n",
      "3*1= 3\n",
      "3*2= 6\n",
      "3*3= 9\n",
      "3*4= 12\n",
      "3*5= 15\n",
      "3*6= 18\n",
      "3*7= 21\n",
      "3*8= 24\n",
      "3*9= 27\n",
      "3*10= 30\n",
      "\n",
      "\n",
      "4*1= 4\n",
      "4*2= 8\n",
      "4*3= 12\n",
      "4*4= 16\n",
      "4*5= 20\n",
      "4*6= 24\n",
      "4*7= 28\n",
      "4*8= 32\n",
      "4*9= 36\n",
      "4*10= 40\n",
      "\n",
      "\n",
      "5*1= 5\n",
      "5*2= 10\n",
      "5*3= 15\n",
      "5*4= 20\n",
      "5*5= 25\n",
      "5*6= 30\n",
      "5*7= 35\n",
      "5*8= 40\n",
      "5*9= 45\n",
      "5*10= 50\n",
      "\n",
      "\n"
     ]
    }
   ],
   "source": [
    "tables = [1,2,3,4,5]\n",
    "for table in tables:\n",
    "    for i in range(1,11):\n",
    "        print(f\"{table}*{i}=\",table*i)\n",
    "    print(\"\\n\")"
   ]
  },
  {
   "cell_type": "markdown",
   "id": "e862b2d7",
   "metadata": {},
   "source": [
    "**Explanation:**  \n",
    "A nested loop prints tables from 1 to 5, multiplying the outer number by the inner loop value.\n"
   ]
  },
  {
   "cell_type": "markdown",
   "id": "6c1b13dd",
   "metadata": {},
   "source": [
    "## 17. Write a program to count how many vowels are in a given string (input from user)"
   ]
  },
  {
   "cell_type": "code",
   "execution_count": 39,
   "id": "35086d17",
   "metadata": {},
   "outputs": [
    {
     "name": "stdout",
     "output_type": "stream",
     "text": [
      "enter a string:aeiou\n",
      "5\n"
     ]
    }
   ],
   "source": [
    "user_input = input(\"enter a string:\")\n",
    "count =0\n",
    "for user in user_input:\n",
    "    if user in ['a','e','i','o','u']:\n",
    "        count=count+1\n",
    "print(count)"
   ]
  },
  {
   "cell_type": "markdown",
   "id": "01e688cc",
   "metadata": {},
   "source": [
    "**Explanation:**  \n",
    "Each character in the input string is checked against a list of vowels, and a counter keeps track.\n"
   ]
  },
  {
   "cell_type": "markdown",
   "id": "62dee79e",
   "metadata": {},
   "source": [
    "## 18. Loop through this list and print the max number using a loop (without max() function):"
   ]
  },
  {
   "cell_type": "code",
   "execution_count": 43,
   "id": "1c062936",
   "metadata": {},
   "outputs": [
    {
     "name": "stdout",
     "output_type": "stream",
     "text": [
      "11\n"
     ]
    }
   ],
   "source": [
    "nums = [4, 7, 2, 9, 11, 3]\n",
    "\n",
    "max1=nums[0]\n",
    "\n",
    "for i in nums:\n",
    "    if i >max1:\n",
    "        max1=i\n",
    "print(max1)        \n",
    "            \n",
    "    \n",
    "    "
   ]
  },
  {
   "cell_type": "markdown",
   "id": "c54617a8",
   "metadata": {},
   "source": [
    "**Explanation:**  \n",
    "The first item is assumed as max. Then each item is compared, updating the max when a larger value is found.\n"
   ]
  },
  {
   "cell_type": "markdown",
   "id": "401c4b6e",
   "metadata": {},
   "source": [
    "## 19.Write a program that:\n",
    "\n",
    "* Takes user input until they enter \"stop\" *\n",
    "\n",
    "* Counts how many times they entered \"yes\" *"
   ]
  },
  {
   "cell_type": "code",
   "execution_count": 1,
   "id": "a8dce3af",
   "metadata": {},
   "outputs": [
    {
     "name": "stdout",
     "output_type": "stream",
     "text": [
      "Enter the string: xx\n",
      "Enter the string: yes\n",
      "Enter the string: stop\n",
      "Count of 'yes': 1\n"
     ]
    }
   ],
   "source": [
    "count = 0\n",
    "while True:\n",
    "    user = input(\"Enter the string: \")\n",
    "    if user == \"stop\":\n",
    "        break\n",
    "    if user == \"yes\":\n",
    "        count += 1\n",
    "\n",
    "print(\"Count of 'yes':\", count)"
   ]
  },
  {
   "cell_type": "markdown",
   "id": "1b62b046",
   "metadata": {},
   "source": [
    "**Explanation:**  \n",
    "The loop counts how many times the user types “yes” before typing “stop” to exit.\n"
   ]
  },
  {
   "cell_type": "markdown",
   "id": "e29ba234",
   "metadata": {},
   "source": [
    "## 20. For n = 5, print a countdown like:\n",
    "\n",
    "5\n",
    "4\n",
    "3\n",
    "2\n",
    "1\n",
    "Lift off!"
   ]
  },
  {
   "cell_type": "code",
   "execution_count": 4,
   "id": "be5c3488",
   "metadata": {},
   "outputs": [
    {
     "name": "stdout",
     "output_type": "stream",
     "text": [
      "5\n",
      "4\n",
      "3\n",
      "2\n",
      "1\n",
      "lift off!\n"
     ]
    }
   ],
   "source": [
    "n=5\n",
    "i=0\n",
    "while n>i:\n",
    "    print(n)\n",
    "    n=n-1\n",
    "print(\"lift off!\")"
   ]
  },
  {
   "cell_type": "markdown",
   "id": "d4b2e74d",
   "metadata": {},
   "source": [
    "**Explanation:**\n",
    "taking n= 5 and decrementing the n value in each step and check if n > 0"
   ]
  },
  {
   "cell_type": "code",
   "execution_count": null,
   "id": "78a702e0",
   "metadata": {},
   "outputs": [],
   "source": []
  }
 ],
 "metadata": {
  "kernelspec": {
   "display_name": "Python 3 (ipykernel)",
   "language": "python",
   "name": "python3"
  },
  "language_info": {
   "codemirror_mode": {
    "name": "ipython",
    "version": 3
   },
   "file_extension": ".py",
   "mimetype": "text/x-python",
   "name": "python",
   "nbconvert_exporter": "python",
   "pygments_lexer": "ipython3",
   "version": "3.11.5"
  }
 },
 "nbformat": 4,
 "nbformat_minor": 5
}
